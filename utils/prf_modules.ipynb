{
 "cells": [
  {
   "cell_type": "code",
   "execution_count": 1,
   "metadata": {},
   "outputs": [
    {
     "name": "stderr",
     "output_type": "stream",
     "text": [
      "/usr/local/lib/python2.7/site-packages/matplotlib/font_manager.py:273: UserWarning: Matplotlib is building the font cache using fc-list. This may take a moment.\n",
      "  warnings.warn('Matplotlib is building the font cache using fc-list. This may take a moment.')\n"
     ]
    }
   ],
   "source": [
    "import prf_utils\n",
    "import sys\n",
    "from prf_utils import MappingScheme\n",
    "from math import floor"
   ]
  },
  {
   "cell_type": "code",
   "execution_count": 151,
   "metadata": {},
   "outputs": [],
   "source": [
    "def m(i,j,mappingScheme,p,q):\n",
    "    if mappingScheme == MappingScheme.RECTANGLE_ONLY:\n",
    "        k = i%p\n",
    "        l=  j%q\n",
    "    elif mappingScheme == MappingScheme.ReRo:\n",
    "        k=int((i+floor(j/q))%p)\n",
    "        l= j%q\n",
    "    elif mappingScheme == MappingScheme.ReCo:\n",
    "        k = i%p\n",
    "        l=int((floor(i/p)+j)%q)\n",
    "    elif mappingScheme == MappingScheme.RoCo:\n",
    "        k = int((i+floor(j/q))%p)\n",
    "        l = int((floor(i/p)+j)%q)\n",
    "    elif mappingScheme == MappingScheme.ReTr:\n",
    "        if(p<q):\n",
    "            k = i%p\n",
    "            l= (i-i%p+j)%q\n",
    "        else:\n",
    "            k = (i+j-(j%q))%p\n",
    "            l = j%q\n",
    "    return (k,l)\n",
    "\n",
    "def inv_m_test(i,j,mappingScheme,p,q,N,M,k,l):\n",
    "    MAF_Table = [[(0,0) for x in range(M)] for y in range(N)]\n",
    "    for i1 in range(N):\n",
    "        for j1 in range(M):\n",
    "            MAF_Table[i1][j1]=m(i1,j1,mappingScheme,p,q)\n",
    "    for i2 in range(p):\n",
    "        for j2 in range(q):\n",
    "            if MAF_Table[i+i2][j+j2] == (k,l):\n",
    "                return (i2,j2)\n",
    "    return -1"
   ]
  },
  {
   "cell_type": "code",
   "execution_count": 152,
   "metadata": {},
   "outputs": [
    {
     "name": "stdout",
     "output_type": "stream",
     "text": [
      "(0, 0) (0, 1) (0, 2) (0, 3) (0, 0) (0, 1) (0, 2) (0, 3) \n",
      "(1, 0) (1, 1) (1, 2) (1, 3) (1, 0) (1, 1) (1, 2) (1, 3) \n",
      "(0, 0) (0, 1) (0, 2) (0, 3) (0, 0) (0, 1) (0, 2) (0, 3) \n",
      "(1, 0) (1, 1) (1, 2) (1, 3) (1, 0) (1, 1) (1, 2) (1, 3) \n",
      "(0, 0) (0, 1) (0, 2) (0, 3) (0, 0) (0, 1) (0, 2) (0, 3) \n",
      "(1, 0) (1, 1) (1, 2) (1, 3) (1, 0) (1, 1) (1, 2) (1, 3) \n",
      "(0, 0) (0, 1) (0, 2) (0, 3) (0, 0) (0, 1) (0, 2) (0, 3) \n",
      "(1, 0) (1, 1) (1, 2) (1, 3) (1, 0) (1, 1) (1, 2) (1, 3) \n",
      "(0, 0) (0, 1) (0, 2) (0, 3) (0, 0) (0, 1) (0, 2) (0, 3) \n",
      "(1, 0) (1, 1) (1, 2) (1, 3) (1, 0) (1, 1) (1, 2) (1, 3) \n",
      "(0, 0) (0, 1) (0, 2) (0, 3) (0, 0) (0, 1) (0, 2) (0, 3) \n",
      "(1, 0) (1, 1) (1, 2) (1, 3) (1, 0) (1, 1) (1, 2) (1, 3) \n",
      "(0, 0) (0, 1) (0, 2) (0, 3) (0, 0) (0, 1) (0, 2) (0, 3) \n",
      "(1, 0) (1, 1) (1, 2) (1, 3) (1, 0) (1, 1) (1, 2) (1, 3) \n"
     ]
    }
   ],
   "source": [
    "#Show Rectangle only MAF\n",
    "for i in range(14):\n",
    "    for j in range(8):\n",
    "        sys.stdout.write(str(m(i,j,MappingScheme.RECTANGLE_ONLY,2,4))+\" \")\n",
    "    print \"\""
   ]
  },
  {
   "cell_type": "code",
   "execution_count": 153,
   "metadata": {},
   "outputs": [
    {
     "name": "stdout",
     "output_type": "stream",
     "text": [
      "(0, 0) (0, 1) (0, 2) (0, 3) (1, 0) (1, 1) (1, 2) (1, 3) \n",
      "(1, 0) (1, 1) (1, 2) (1, 3) (0, 0) (0, 1) (0, 2) (0, 3) \n",
      "(0, 0) (0, 1) (0, 2) (0, 3) (1, 0) (1, 1) (1, 2) (1, 3) \n",
      "(1, 0) (1, 1) (1, 2) (1, 3) (0, 0) (0, 1) (0, 2) (0, 3) \n",
      "(0, 0) (0, 1) (0, 2) (0, 3) (1, 0) (1, 1) (1, 2) (1, 3) \n",
      "(1, 0) (1, 1) (1, 2) (1, 3) (0, 0) (0, 1) (0, 2) (0, 3) \n",
      "(0, 0) (0, 1) (0, 2) (0, 3) (1, 0) (1, 1) (1, 2) (1, 3) \n",
      "(1, 0) (1, 1) (1, 2) (1, 3) (0, 0) (0, 1) (0, 2) (0, 3) \n",
      "(0, 0) (0, 1) (0, 2) (0, 3) (1, 0) (1, 1) (1, 2) (1, 3) \n",
      "(1, 0) (1, 1) (1, 2) (1, 3) (0, 0) (0, 1) (0, 2) (0, 3) \n",
      "(0, 0) (0, 1) (0, 2) (0, 3) (1, 0) (1, 1) (1, 2) (1, 3) \n",
      "(1, 0) (1, 1) (1, 2) (1, 3) (0, 0) (0, 1) (0, 2) (0, 3) \n",
      "(0, 0) (0, 1) (0, 2) (0, 3) (1, 0) (1, 1) (1, 2) (1, 3) \n",
      "(1, 0) (1, 1) (1, 2) (1, 3) (0, 0) (0, 1) (0, 2) (0, 3) \n"
     ]
    }
   ],
   "source": [
    "#Show ReRo MAF\n",
    "for i in range(14):\n",
    "    for j in range(8):\n",
    "        sys.stdout.write(str(m(i,j,MappingScheme.ReRo,2,4))+\" \")\n",
    "    print \"\""
   ]
  },
  {
   "cell_type": "code",
   "execution_count": 154,
   "metadata": {},
   "outputs": [
    {
     "name": "stdout",
     "output_type": "stream",
     "text": [
      "(0, 0) (0, 1) (0, 2) (0, 3) (0, 0) (0, 1) (0, 2) (0, 3) \n",
      "(1, 0) (1, 1) (1, 2) (1, 3) (1, 0) (1, 1) (1, 2) (1, 3) \n",
      "(0, 1) (0, 2) (0, 3) (0, 0) (0, 1) (0, 2) (0, 3) (0, 0) \n",
      "(1, 1) (1, 2) (1, 3) (1, 0) (1, 1) (1, 2) (1, 3) (1, 0) \n",
      "(0, 2) (0, 3) (0, 0) (0, 1) (0, 2) (0, 3) (0, 0) (0, 1) \n",
      "(1, 2) (1, 3) (1, 0) (1, 1) (1, 2) (1, 3) (1, 0) (1, 1) \n",
      "(0, 3) (0, 0) (0, 1) (0, 2) (0, 3) (0, 0) (0, 1) (0, 2) \n",
      "(1, 3) (1, 0) (1, 1) (1, 2) (1, 3) (1, 0) (1, 1) (1, 2) \n",
      "(0, 0) (0, 1) (0, 2) (0, 3) (0, 0) (0, 1) (0, 2) (0, 3) \n",
      "(1, 0) (1, 1) (1, 2) (1, 3) (1, 0) (1, 1) (1, 2) (1, 3) \n",
      "(0, 1) (0, 2) (0, 3) (0, 0) (0, 1) (0, 2) (0, 3) (0, 0) \n",
      "(1, 1) (1, 2) (1, 3) (1, 0) (1, 1) (1, 2) (1, 3) (1, 0) \n",
      "(0, 2) (0, 3) (0, 0) (0, 1) (0, 2) (0, 3) (0, 0) (0, 1) \n",
      "(1, 2) (1, 3) (1, 0) (1, 1) (1, 2) (1, 3) (1, 0) (1, 1) \n"
     ]
    }
   ],
   "source": [
    "#Show ReCo MAF\n",
    "for i in range(14):\n",
    "    for j in range(8):\n",
    "        sys.stdout.write(str(m(i,j,MappingScheme.ReCo,2,4))+\" \")\n",
    "    print \"\""
   ]
  },
  {
   "cell_type": "code",
   "execution_count": 155,
   "metadata": {},
   "outputs": [
    {
     "name": "stdout",
     "output_type": "stream",
     "text": [
      "(0, 0) (0, 1) (0, 2) (0, 3) (0, 0) (0, 1) (0, 2) (0, 3) \n",
      "(1, 0) (1, 1) (1, 2) (1, 3) (1, 0) (1, 1) (1, 2) (1, 3) \n",
      "(0, 2) (0, 3) (0, 0) (0, 1) (0, 2) (0, 3) (0, 0) (0, 1) \n",
      "(1, 2) (1, 3) (1, 0) (1, 1) (1, 2) (1, 3) (1, 0) (1, 1) \n",
      "(0, 0) (0, 1) (0, 2) (0, 3) (0, 0) (0, 1) (0, 2) (0, 3) \n",
      "(1, 0) (1, 1) (1, 2) (1, 3) (1, 0) (1, 1) (1, 2) (1, 3) \n",
      "(0, 2) (0, 3) (0, 0) (0, 1) (0, 2) (0, 3) (0, 0) (0, 1) \n",
      "(1, 2) (1, 3) (1, 0) (1, 1) (1, 2) (1, 3) (1, 0) (1, 1) \n",
      "(0, 0) (0, 1) (0, 2) (0, 3) (0, 0) (0, 1) (0, 2) (0, 3) \n",
      "(1, 0) (1, 1) (1, 2) (1, 3) (1, 0) (1, 1) (1, 2) (1, 3) \n",
      "(0, 2) (0, 3) (0, 0) (0, 1) (0, 2) (0, 3) (0, 0) (0, 1) \n",
      "(1, 2) (1, 3) (1, 0) (1, 1) (1, 2) (1, 3) (1, 0) (1, 1) \n",
      "(0, 0) (0, 1) (0, 2) (0, 3) (0, 0) (0, 1) (0, 2) (0, 3) \n",
      "(1, 0) (1, 1) (1, 2) (1, 3) (1, 0) (1, 1) (1, 2) (1, 3) \n"
     ]
    }
   ],
   "source": [
    "#Show ReCo MAF\n",
    "for i in range(14):\n",
    "    for j in range(8):\n",
    "        sys.stdout.write(str(m(i,j,MappingScheme.ReTr,2,4))+\" \")\n",
    "    print \"\""
   ]
  },
  {
   "cell_type": "code",
   "execution_count": 156,
   "metadata": {},
   "outputs": [
    {
     "data": {
      "text/plain": [
       "(0, 3)"
      ]
     },
     "execution_count": 156,
     "metadata": {},
     "output_type": "execute_result"
    }
   ],
   "source": [
    "inv_m_test(1,4,MappingScheme.ReRo,2,4,14,8,0,3)"
   ]
  },
  {
   "cell_type": "code",
   "execution_count": 157,
   "metadata": {},
   "outputs": [],
   "source": [
    "def inv_m(i,j,mappingScheme,p,q,k,l):\n",
    "    if mappingScheme == MappingScheme.ReRo:\n",
    "        beta =  (l-(j%q))%q\n",
    "        alpha = (k-i%p-(j/q)%p-((j%q)+beta)/q)%p\n",
    "    elif mappingScheme == MappingScheme.ReCo:\n",
    "        alpha =  (k-i%p)%p\n",
    "        beta = (l-j%q-(i/p)%q-((i%p)+alpha)/p)%q\n",
    "    elif mappingScheme == MappingScheme.ReCo:\n",
    "        alpha = (k-i%p-(j/q)%p-((j%q)+((l-(j%q))%q))/q)%p\n",
    "        beta  = (l-j%q-(i/p)%q-((i%p)+((k-i%p)%p))/p)%q\n",
    "    elif mappingScheme == MappingScheme.ReTr:\n",
    "        if p<q:\n",
    "            alpha = (k-i%p)%p\n",
    "            beta  = (l-(i+alpha)%q+(i+alpha)%p-j%q)%q\n",
    "        else:\n",
    "            beta =  (l-(j%q))%q\n",
    "            alpha = (k-i%p-(j+beta)%p+(j+beta)%q)%p\n",
    "    return (alpha,beta)"
   ]
  },
  {
   "cell_type": "code",
   "execution_count": 158,
   "metadata": {},
   "outputs": [
    {
     "data": {
      "text/plain": [
       "(0, 3)"
      ]
     },
     "execution_count": 158,
     "metadata": {},
     "output_type": "execute_result"
    }
   ],
   "source": [
    "inv_m(1,4,MappingScheme.ReRo,2,4,0,3)"
   ]
  },
  {
   "cell_type": "code",
   "execution_count": 164,
   "metadata": {},
   "outputs": [],
   "source": [
    "def compare_inv(inv_m_test,inv_m,mappingScheme):\n",
    "    N,M= 14,8\n",
    "    p,q = 2,4\n",
    "    for i in range(N):\n",
    "        for j in range(M):\n",
    "            for p_i in range(p):\n",
    "                for q_j in range(q):\n",
    "                    if i+p >=N or j+ q >=M:\n",
    "                        continue\n",
    "                    try:\n",
    "                        test_inv = inv_m_test(i,j,mappingScheme,p,q,N,M,p_i,q_j)\n",
    "                        inv = inv_m(i,j,mappingScheme,p,q,p_i,q_j)\n",
    "                    except:\n",
    "                        print str(i)+\" \"+str(j)+\" \"+str(p_i)+\" \"+str(q_j)\n",
    "                        raise\n",
    "                    if  test_inv != inv:\n",
    "                        print str(i)+\" \"+str(j)+\" \"+str(p_i)+\" \"+str(q_j)\n",
    "                        print str(test_inv)+\" \"+str(inv)\n",
    "                        return 1\n",
    "    return 0\n"
   ]
  },
  {
   "cell_type": "code",
   "execution_count": 165,
   "metadata": {},
   "outputs": [
    {
     "data": {
      "text/plain": [
       "0"
      ]
     },
     "execution_count": 165,
     "metadata": {},
     "output_type": "execute_result"
    }
   ],
   "source": [
    "compare_inv(inv_m_test,inv_m,MappingScheme.ReRo)"
   ]
  },
  {
   "cell_type": "code",
   "execution_count": 166,
   "metadata": {},
   "outputs": [
    {
     "data": {
      "text/plain": [
       "0"
      ]
     },
     "execution_count": 166,
     "metadata": {},
     "output_type": "execute_result"
    }
   ],
   "source": [
    "compare_inv(inv_m_test,inv_m,MappingScheme.ReCo)"
   ]
  },
  {
   "cell_type": "code",
   "execution_count": 167,
   "metadata": {},
   "outputs": [
    {
     "data": {
      "text/plain": [
       "0"
      ]
     },
     "execution_count": 167,
     "metadata": {},
     "output_type": "execute_result"
    }
   ],
   "source": [
    "compare_inv(inv_m_test,inv_m,MappingScheme.ReRo)"
   ]
  },
  {
   "cell_type": "code",
   "execution_count": 168,
   "metadata": {},
   "outputs": [
    {
     "data": {
      "text/plain": [
       "0"
      ]
     },
     "execution_count": 168,
     "metadata": {},
     "output_type": "execute_result"
    }
   ],
   "source": [
    "compare_inv(inv_m_test,inv_m,MappingScheme.ReTr)"
   ]
  },
  {
   "cell_type": "code",
   "execution_count": null,
   "metadata": {},
   "outputs": [],
   "source": []
  }
 ],
 "metadata": {
  "kernelspec": {
   "display_name": "Python 2",
   "language": "python",
   "name": "python2"
  },
  "language_info": {
   "codemirror_mode": {
    "name": "ipython",
    "version": 2
   },
   "file_extension": ".py",
   "mimetype": "text/x-python",
   "name": "python",
   "nbconvert_exporter": "python",
   "pygments_lexer": "ipython2",
   "version": "2.7.11"
  }
 },
 "nbformat": 4,
 "nbformat_minor": 0
}
