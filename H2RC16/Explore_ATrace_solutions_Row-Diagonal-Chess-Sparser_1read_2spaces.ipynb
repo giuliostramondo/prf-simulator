{
 "cells": [
  {
   "cell_type": "code",
   "execution_count": 1,
   "metadata": {
    "collapsed": false
   },
   "outputs": [
    {
     "name": "stderr",
     "output_type": "stream",
     "text": [
      "/usr/local/lib/python2.7/site-packages/matplotlib/font_manager.py:273: UserWarning: Matplotlib is building the font cache using fc-list. This may take a moment.\n",
      "  warnings.warn('Matplotlib is building the font cache using fc-list. This may take a moment.')\n"
     ]
    }
   ],
   "source": [
    "%matplotlib inline\n",
    "import matplotlib.pyplot as plt\n",
    "import numpy as np\n",
    "import prf_utils"
   ]
  },
  {
   "cell_type": "code",
   "execution_count": 2,
   "metadata": {
    "collapsed": false
   },
   "outputs": [
    {
     "name": "stdout",
     "output_type": "stream",
     "text": [
      "TotalNumberOfAccesses: 7025\n",
      "TotalNumberOfAccesses: 7025\n",
      "TotalParallelAccesses: 7025 with 1 memories\n",
      "TotalNumberOfAccesses: 7025\n",
      "TotalParallelAccesses: 4691 with 2 memories\n",
      "TotalNumberOfAccesses: 7025\n",
      "TotalParallelAccesses: 3577 with 3 memories\n",
      "TotalNumberOfAccesses: 7025\n",
      "TotalParallelAccesses: 2417 with 4 memories\n",
      "TotalNumberOfAccesses: 7025\n",
      "TotalParallelAccesses: 1911 with 5 memories\n",
      "TotalNumberOfAccesses: 7025\n",
      "TotalParallelAccesses: 1906 with 6 memories\n",
      "TotalNumberOfAccesses: 7025\n",
      "TotalParallelAccesses: 1705 with 7 memories\n",
      "TotalNumberOfAccesses: 7025\n",
      "TotalParallelAccesses: 1702 with 8 memories\n",
      "TotalNumberOfAccesses: 7025\n",
      "TotalParallelAccesses: 1699 with 9 memories\n",
      "TotalNumberOfAccesses: 7025\n",
      "TotalParallelAccesses: 1601 with 10 memories\n",
      "TotalNumberOfAccesses: 7025\n",
      "TotalParallelAccesses: 1599 with 11 memories\n",
      "TotalNumberOfAccesses: 7025\n",
      "TotalParallelAccesses: 1597 with 12 memories\n",
      "TotalNumberOfAccesses: 7025\n",
      "TotalParallelAccesses: 1595 with 13 memories\n",
      "TotalNumberOfAccesses: 7025\n",
      "TotalParallelAccesses: 1593 with 14 memories\n",
      "TotalNumberOfAccesses: 7025\n",
      "TotalParallelAccesses: 1591 with 15 memories\n",
      "TotalNumberOfAccesses: 7025\n",
      "TotalParallelAccesses: 1210 with 16 memories\n",
      "TotalNumberOfAccesses: 7025\n",
      "TotalParallelAccesses: 1210 with 17 memories\n",
      "TotalNumberOfAccesses: 7025\n",
      "TotalParallelAccesses: 1210 with 18 memories\n",
      "TotalNumberOfAccesses: 7025\n",
      "TotalParallelAccesses: 1210 with 19 memories\n",
      "TotalNumberOfAccesses: 7025\n",
      "TotalParallelAccesses: 1210 with 20 memories\n",
      "TotalNumberOfAccesses: 7025\n",
      "TotalParallelAccesses: 1210 with 21 memories\n",
      "TotalNumberOfAccesses: 7025\n",
      "TotalParallelAccesses: 1208 with 22 memories\n",
      "TotalNumberOfAccesses: 7025\n",
      "TotalParallelAccesses: 1208 with 23 memories\n",
      "TotalNumberOfAccesses: 7025\n",
      "TotalParallelAccesses: 1208 with 24 memories\n",
      "TotalNumberOfAccesses: 7025\n",
      "TotalParallelAccesses: 1107 with 25 memories\n",
      "TotalNumberOfAccesses: 7025\n",
      "TotalParallelAccesses: 1107 with 26 memories\n",
      "TotalNumberOfAccesses: 7025\n",
      "TotalParallelAccesses: 1107 with 27 memories\n",
      "TotalNumberOfAccesses: 7025\n",
      "TotalParallelAccesses: 1006 with 28 memories\n",
      "TotalNumberOfAccesses: 7025\n",
      "TotalParallelAccesses: 1006 with 29 memories\n",
      "TotalNumberOfAccesses: 7025\n",
      "TotalParallelAccesses: 1006 with 30 memories\n",
      "TotalNumberOfAccesses: 7025\n",
      "TotalParallelAccesses: 873 with 31 memories\n",
      "TotalNumberOfAccesses: 7025\n",
      "TotalParallelAccesses: 873 with 32 memories\n",
      "TotalNumberOfAccesses: 7025\n",
      "TotalParallelAccesses: 873 with 33 memories\n",
      "TotalNumberOfAccesses: 7025\n",
      "TotalParallelAccesses: 605 with 34 memories\n",
      "TotalNumberOfAccesses: 7025\n",
      "TotalParallelAccesses: 605 with 35 memories\n"
     ]
    }
   ],
   "source": [
    "activePointsList = prf_utils.parseATrace(\"/Users/giuliostramondo/Projects/H2RC16/rodinia_test_100_chess_sparser_1read_2spaces.atrace\")\n",
    "\n",
    "TotalNumberOfAccesses=0\n",
    "for i in range(0,len(activePointsList)):\n",
    "    TotalNumberOfAccesses+=len(activePointsList[i])\n",
    "print \"TotalNumberOfAccesses: \"+str(TotalNumberOfAccesses)\n",
    "\n",
    "row_accesses = []\n",
    "row_efficiency = []\n",
    "row_speedup = []\n",
    "row_efficiency_over_accesses = []\n",
    "for i in range(36):\n",
    "    row_accesses.append(0)\n",
    "    row_efficiency.append(0)\n",
    "    row_speedup.append(0)\n",
    "    row_efficiency_over_accesses.append(0)\n",
    "    \n",
    "for memories in range(1,36):\n",
    "    TotalParallelAccesses=0\n",
    "    for i in range(0,len(activePointsList)):\n",
    "        active_points = list(set(activePointsList[i]))\n",
    "        #sol = prf_utils.solveOptimally(active_points,2,4, prf_utils.MappingScheme.RECTANGLE_ONLY)\n",
    "        sol = prf_utils.solveOptimally(active_points,1,memories, [prf_utils.Shape.ROW,prf_utils.Shape.MAIN_DIAGONAL])\n",
    "        TotalParallelAccesses+=len(sol)\n",
    "    \n",
    "    print \"TotalNumberOfAccesses: \"+str(TotalNumberOfAccesses)\n",
    "    print \"TotalParallelAccesses: \"+str(TotalParallelAccesses)+\" with \"+str(memories)+\" memories\"\n",
    "    row_accesses[memories]=TotalParallelAccesses\n",
    "    row_efficiency[memories]=TotalNumberOfAccesses/float(TotalParallelAccesses*memories)\n",
    "    row_speedup[memories]=TotalNumberOfAccesses/float(TotalParallelAccesses)\n",
    "    row_efficiency_over_accesses[memories]=row_efficiency[memories]/float(TotalParallelAccesses)"
   ]
  },
  {
   "cell_type": "code",
   "execution_count": 3,
   "metadata": {
    "collapsed": false
   },
   "outputs": [
    {
     "data": {
      "image/png": "[encoded data removed]",
      "text/plain": [
       "<matplotlib.figure.Figure at 0x112818810>"
      ]
     },
     "metadata": {},
     "output_type": "display_data"
    }
   ],
   "source": [
    "memories = np.arange(0, 36, 1)\n",
    "plt.plot(memories, row_accesses, 'r.', memories, row_efficiency, 'bs', memories, row_speedup, 'g^')\n",
    "plt.show()"
   ]
  },
  {
   "cell_type": "code",
   "execution_count": 4,
   "metadata": {
    "collapsed": false
   },
   "outputs": [
    {
     "data": {
      "text/plain": [
       "[<matplotlib.lines.Line2D at 0x113d50ad0>]"
      ]
     },
     "execution_count": 4,
     "metadata": {},
     "output_type": "execute_result"
    },
    {
     "data": {
      "image/png": "[encoded data removed]",
      "text/plain": [
       "<matplotlib.figure.Figure at 0x112818d50>"
      ]
     },
     "metadata": {},
     "output_type": "display_data"
    }
   ],
   "source": [
    "plt.plot(memories, row_accesses, 'r.')"
   ]
  },
  {
   "cell_type": "code",
   "execution_count": 5,
   "metadata": {
    "collapsed": false
   },
   "outputs": [
    {
     "data": {
      "text/plain": [
       "[<matplotlib.lines.Line2D at 0x1128327d0>]"
      ]
     },
     "execution_count": 5,
     "metadata": {},
     "output_type": "execute_result"
    },
    {
     "data": {
      "image/png": "[encoded data removed]",
      "text/plain": [
       "<matplotlib.figure.Figure at 0x1128cf390>"
      ]
     },
     "metadata": {},
     "output_type": "display_data"
    }
   ],
   "source": [
    "plt.plot(memories, row_speedup, 'r.')"
   ]
  },
  {
   "cell_type": "code",
   "execution_count": 6,
   "metadata": {
    "collapsed": false
   },
   "outputs": [
    {
     "data": {
      "text/plain": [
       "[<matplotlib.lines.Line2D at 0x113663dd0>]"
      ]
     },
     "execution_count": 6,
     "metadata": {},
     "output_type": "execute_result"
    },
    {
     "data": {
      "image/png": "[encoded data removed]",
      "text/plain": [
       "<matplotlib.figure.Figure at 0x1128c53d0>"
      ]
     },
     "metadata": {},
     "output_type": "display_data"
    }
   ],
   "source": [
    "plt.plot(memories, row_efficiency, 'r.')"
   ]
  },
  {
   "cell_type": "code",
   "execution_count": 7,
   "metadata": {
    "collapsed": false
   },
   "outputs": [
    {
     "data": {
      "text/plain": [
       "[<matplotlib.lines.Line2D at 0x112938fd0>]"
      ]
     },
     "execution_count": 7,
     "metadata": {},
     "output_type": "execute_result"
    },
    {
     "data": {
      "image/png": "[encoded data removed]",
      "text/plain": [
       "<matplotlib.figure.Figure at 0x1135de2d0>"
      ]
     },
     "metadata": {},
     "output_type": "display_data"
    }
   ],
   "source": [
    "plt.plot(memories, row_efficiency_over_accesses, 'r.')"
   ]
  },
  {
   "cell_type": "code",
   "execution_count": 9,
   "metadata": {
    "collapsed": false
   },
   "outputs": [],
   "source": [
    "#Write output to file\n",
    "\n",
    "f = open(\"row_diagonal_100_kmeans_sparser_1read_2spaces.csv\",\"w\")\n",
    "for i in range(1,36):\n",
    "    if i == 35:\n",
    "        f.write(str(i)+\"\\n\")\n",
    "    else:\n",
    "        f.write(str(i)+\",\")\n",
    "for i in range(1,36):\n",
    "    if i == 35:\n",
    "        f.write(str(row_accesses[i])+\"\\n\")\n",
    "    else:\n",
    "        f.write(str(row_accesses[i])+\",\")\n",
    "for i in range(1,36):\n",
    "    if i == 35:\n",
    "        f.write(str(row_speedup[i])+\"\\n\")\n",
    "    else:\n",
    "        f.write(str(row_speedup[i])+\",\")\n",
    "for i in range(1,36):\n",
    "    if i == 35:\n",
    "        f.write(str(row_efficiency[i])+\"\\n\")\n",
    "    else:\n",
    "        f.write(str(row_efficiency[i])+\",\")\n",
    "for i in range(1,36):\n",
    "    if i == 35:\n",
    "        f.write(str(row_efficiency_over_accesses[i])+\"\\n\")\n",
    "    else:\n",
    "        f.write(str(row_efficiency_over_accesses[i])+\",\")"
   ]
  },
  {
   "cell_type": "code",
   "execution_count": null,
   "metadata": {
    "collapsed": true
   },
   "outputs": [],
   "source": []
  }
 ],
 "metadata": {
  "kernelspec": {
   "display_name": "Python 2",
   "language": "python",
   "name": "python2"
  },
  "language_info": {
   "codemirror_mode": {
    "name": "ipython",
    "version": 2
   },
   "file_extension": ".py",
   "mimetype": "text/x-python",
   "name": "python",
   "nbconvert_exporter": "python",
   "pygments_lexer": "ipython2",
   "version": "2.7.11"
  }
 },
 "nbformat": 4,
 "nbformat_minor": 0
}
