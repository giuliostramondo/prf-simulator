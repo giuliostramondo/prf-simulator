{
 "cells": [
  {
   "cell_type": "code",
   "execution_count": 1,
   "metadata": {
    "collapsed": true
   },
   "outputs": [],
   "source": [
    "%matplotlib inline\n",
    "import matplotlib.pyplot as plt\n",
    "import numpy as np\n",
    "import prf_utils"
   ]
  },
  {
   "cell_type": "code",
   "execution_count": 13,
   "metadata": {
    "collapsed": false
   },
   "outputs": [
    {
     "name": "stdout",
     "output_type": "stream",
     "text": [
      "TotalNumberOfAccesses: 21175\n",
      "TotalNumberOfAccesses: 21175\n",
      "TotalParallelAccesses: 605 with 35 memories\n"
     ]
    },
    {
     "ename": "IndexError",
     "evalue": "list assignment index out of range",
     "output_type": "error",
     "traceback": [
      "\u001b[0;31m---------------------------------------------------------------------------\u001b[0m",
      "\u001b[0;31mIndexError\u001b[0m                                Traceback (most recent call last)",
      "\u001b[0;32m<ipython-input-13-13b83ca4efb1>\u001b[0m in \u001b[0;36m<module>\u001b[0;34m()\u001b[0m\n\u001b[1;32m     24\u001b[0m     \u001b[0;32mprint\u001b[0m \u001b[0;34m\"TotalNumberOfAccesses: \"\u001b[0m\u001b[0;34m+\u001b[0m\u001b[0mstr\u001b[0m\u001b[0;34m(\u001b[0m\u001b[0mTotalNumberOfAccesses\u001b[0m\u001b[0;34m)\u001b[0m\u001b[0;34m\u001b[0m\u001b[0m\n\u001b[1;32m     25\u001b[0m     \u001b[0;32mprint\u001b[0m \u001b[0;34m\"TotalParallelAccesses: \"\u001b[0m\u001b[0;34m+\u001b[0m\u001b[0mstr\u001b[0m\u001b[0;34m(\u001b[0m\u001b[0mTotalParallelAccesses\u001b[0m\u001b[0;34m)\u001b[0m\u001b[0;34m+\u001b[0m\u001b[0;34m\" with \"\u001b[0m\u001b[0;34m+\u001b[0m\u001b[0mstr\u001b[0m\u001b[0;34m(\u001b[0m\u001b[0mmemories\u001b[0m\u001b[0;34m)\u001b[0m\u001b[0;34m+\u001b[0m\u001b[0;34m\" memories\"\u001b[0m\u001b[0;34m\u001b[0m\u001b[0m\n\u001b[0;32m---> 26\u001b[0;31m     \u001b[0mrow_accesses\u001b[0m\u001b[0;34m[\u001b[0m\u001b[0mmemories\u001b[0m\u001b[0;34m]\u001b[0m\u001b[0;34m=\u001b[0m\u001b[0mTotalParallelAccesses\u001b[0m\u001b[0;34m\u001b[0m\u001b[0m\n\u001b[0m\u001b[1;32m     27\u001b[0m     \u001b[0mrow_efficiency\u001b[0m\u001b[0;34m[\u001b[0m\u001b[0mmemories\u001b[0m\u001b[0;34m]\u001b[0m\u001b[0;34m=\u001b[0m\u001b[0mTotalNumberOfAccesses\u001b[0m\u001b[0;34m/\u001b[0m\u001b[0mfloat\u001b[0m\u001b[0;34m(\u001b[0m\u001b[0mTotalParallelAccesses\u001b[0m\u001b[0;34m*\u001b[0m\u001b[0mmemories\u001b[0m\u001b[0;34m)\u001b[0m\u001b[0;34m\u001b[0m\u001b[0m\n\u001b[1;32m     28\u001b[0m     \u001b[0mrow_speedup\u001b[0m\u001b[0;34m[\u001b[0m\u001b[0mmemories\u001b[0m\u001b[0;34m]\u001b[0m\u001b[0;34m=\u001b[0m\u001b[0mTotalNumberOfAccesses\u001b[0m\u001b[0;34m/\u001b[0m\u001b[0mfloat\u001b[0m\u001b[0;34m(\u001b[0m\u001b[0mTotalParallelAccesses\u001b[0m\u001b[0;34m)\u001b[0m\u001b[0;34m\u001b[0m\u001b[0m\n",
      "\u001b[0;31mIndexError\u001b[0m: list assignment index out of range"
     ]
    }
   ],
   "source": [
    "activePointsList = prf_utils.parseATrace(\"/Users/giuliostramondo/Projects/H2RC16/rodinia_test_100_2.atrace\")\n",
    "\n",
    "TotalNumberOfAccesses=0\n",
    "for i in range(0,len(activePointsList)):\n",
    "    TotalNumberOfAccesses+=len(activePointsList[i])\n",
    "print \"TotalNumberOfAccesses: \"+str(TotalNumberOfAccesses)\n",
    "\n",
    "row_accesses = []\n",
    "row_efficiency = []\n",
    "row_speedup = []\n",
    "row_efficiency_over_accesses = []\n",
    "for i in range(36):\n",
    "    row_accesses.append(0)\n",
    "    row_efficiency.append(0)\n",
    "    row_speedup.append(0)\n",
    "    row_efficiency_over_accesses.append(0)\n",
    "    \n",
    "for memories in range(1,36):\n",
    "    TotalParallelAccesses=0\n",
    "    for i in range(0,len(activePointsList)):\n",
    "        active_points = list(set(activePointsList[i]))\n",
    "        #sol = prf_utils.solveOptimally(active_points,2,4, prf_utils.MappingScheme.RECTANGLE_ONLY)\n",
    "        sol = prf_utils.solveOptimally(active_points,1,memories, [prf_utils.Shape.ROW])\n",
    "        TotalParallelAccesses+=len(sol)\n",
    "    \n",
    "    print \"TotalNumberOfAccesses: \"+str(TotalNumberOfAccesses)\n",
    "    print \"TotalParallelAccesses: \"+str(TotalParallelAccesses)+\" with \"+str(memories)+\" memories\"\n",
    "    row_accesses[memories]=TotalParallelAccesses\n",
    "    row_efficiency[memories]=TotalNumberOfAccesses/float(TotalParallelAccesses*memories)\n",
    "    row_speedup[memories]=TotalNumberOfAccesses/float(TotalParallelAccesses)\n",
    "    row_efficiency[memories]=row_efficiency[memories]/float(TotalParallelAccesses)"
   ]
  },
  {
   "cell_type": "code",
   "execution_count": 3,
   "metadata": {
    "collapsed": false
   },
   "outputs": [
    {
     "data": {
      "image/png": "[encoded data removed]",
      "text/plain": [
       "<matplotlib.figure.Figure at 0x10f9cea10>"
      ]
     },
     "metadata": {},
     "output_type": "display_data"
    }
   ],
   "source": [
    "memories = np.arange(0, 36, 1)\n",
    "plt.plot(memories, row_accesses, 'r.', memories, row_efficiency, 'bs', memories, row_speedup, 'g^')\n",
    "plt.show()"
   ]
  },
  {
   "cell_type": "code",
   "execution_count": 4,
   "metadata": {
    "collapsed": false
   },
   "outputs": [
    {
     "data": {
      "text/plain": [
       "[<matplotlib.lines.Line2D at 0x110226dd0>]"
      ]
     },
     "execution_count": 4,
     "metadata": {},
     "output_type": "execute_result"
    },
    {
     "data": {
      "image/png": "[encoded data removed]",
      "text/plain": [
       "<matplotlib.figure.Figure at 0x10f9cee10>"
      ]
     },
     "metadata": {},
     "output_type": "display_data"
    }
   ],
   "source": [
    "plt.plot(memories, row_accesses, 'r.')"
   ]
  },
  {
   "cell_type": "code",
   "execution_count": 5,
   "metadata": {
    "collapsed": false
   },
   "outputs": [
    {
     "data": {
      "text/plain": [
       "[<matplotlib.lines.Line2D at 0x1101f9450>]"
      ]
     },
     "execution_count": 5,
     "metadata": {},
     "output_type": "execute_result"
    },
    {
     "data": {
      "image/png": "[encoded data removed]",
      "text/plain": [
       "<matplotlib.figure.Figure at 0x1106b4150>"
      ]
     },
     "metadata": {},
     "output_type": "display_data"
    }
   ],
   "source": [
    "plt.plot(memories, row_speedup, 'r.')"
   ]
  },
  {
   "cell_type": "code",
   "execution_count": 6,
   "metadata": {
    "collapsed": false
   },
   "outputs": [
    {
     "data": {
      "text/plain": [
       "[<matplotlib.lines.Line2D at 0x11080f6d0>]"
      ]
     },
     "execution_count": 6,
     "metadata": {},
     "output_type": "execute_result"
    },
    {
     "data": {
      "image/png": "[encoded data removed]",
      "text/plain": [
       "<matplotlib.figure.Figure at 0x1100fd050>"
      ]
     },
     "metadata": {},
     "output_type": "display_data"
    }
   ],
   "source": [
    "plt.plot(memories, row_efficiency, 'r.')"
   ]
  },
  {
   "cell_type": "code",
   "execution_count": 10,
   "metadata": {
    "collapsed": false
   },
   "outputs": [
    {
     "data": {
      "text/plain": [
       "[<matplotlib.lines.Line2D at 0x1104a6ed0>]"
      ]
     },
     "execution_count": 10,
     "metadata": {},
     "output_type": "execute_result"
    },
    {
     "data": {
      "image/png": "[encoded data removed]",
      "text/plain": [
       "<matplotlib.figure.Figure at 0x11067dd50>"
      ]
     },
     "metadata": {},
     "output_type": "display_data"
    }
   ],
   "source": [
    "plt.plot(memories, row_efficiency_over_accesses, 'r.')"
   ]
  },
  {
   "cell_type": "code",
   "execution_count": 12,
   "metadata": {
    "collapsed": false
   },
   "outputs": [],
   "source": [
    "#Write output to file\n",
    "\n",
    "f = open(\"row_100_kmeans.csv\",\"w\")\n",
    "for i in range(1,36):\n",
    "    if i == 35:\n",
    "        f.write(str(i)+\"\\n\")\n",
    "    else:\n",
    "        f.write(str(i)+\",\")\n",
    "for i in range(1,36):\n",
    "    if i == 35:\n",
    "        f.write(str(row_accesses[i])+\"\\n\")\n",
    "    else:\n",
    "        f.write(str(row_accesses[i])+\",\")\n",
    "for i in range(1,36):\n",
    "    if i == 35:\n",
    "        f.write(str(row_speedup[i])+\"\\n\")\n",
    "    else:\n",
    "        f.write(str(row_speedup[i])+\",\")\n",
    "for i in range(1,36):\n",
    "    if i == 35:\n",
    "        f.write(str(row_efficiency[i])+\"\\n\")\n",
    "    else:\n",
    "        f.write(str(row_efficiency[i])+\",\")\n",
    "for i in range(1,36):\n",
    "    if i == 35:\n",
    "        f.write(str(row_efficiency_over_accesses[i])+\"\\n\")\n",
    "    else:\n",
    "        f.write(str(row_efficiency_over_accesses[i])+\",\")"
   ]
  },
  {
   "cell_type": "code",
   "execution_count": null,
   "metadata": {
    "collapsed": true
   },
   "outputs": [],
   "source": []
  }
 ],
 "metadata": {
  "kernelspec": {
   "display_name": "Python 2",
   "language": "python",
   "name": "python2"
  },
  "language_info": {
   "codemirror_mode": {
    "name": "ipython",
    "version": 2
   },
   "file_extension": ".py",
   "mimetype": "text/x-python",
   "name": "python",
   "nbconvert_exporter": "python",
   "pygments_lexer": "ipython2",
   "version": "2.7.11"
  }
 },
 "nbformat": 4,
 "nbformat_minor": 0
}
