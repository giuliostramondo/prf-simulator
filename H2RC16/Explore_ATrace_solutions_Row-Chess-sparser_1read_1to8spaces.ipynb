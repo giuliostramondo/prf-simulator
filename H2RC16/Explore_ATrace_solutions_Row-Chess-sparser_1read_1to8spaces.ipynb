{
 "cells": [
  {
   "cell_type": "code",
   "execution_count": 1,
   "metadata": {
    "collapsed": false
   },
   "outputs": [
    {
     "name": "stderr",
     "output_type": "stream",
     "text": [
      "/usr/local/lib/python2.7/site-packages/matplotlib/font_manager.py:273: UserWarning: Matplotlib is building the font cache using fc-list. This may take a moment.\n",
      "  warnings.warn('Matplotlib is building the font cache using fc-list. This may take a moment.')\n"
     ]
    }
   ],
   "source": [
    "%matplotlib inline\n",
    "import matplotlib.pyplot as plt\n",
    "import numpy as np\n",
    "import prf_utils"
   ]
  },
  {
   "cell_type": "code",
   "execution_count": 2,
   "metadata": {
    "collapsed": false
   },
   "outputs": [
    {
     "name": "stdout",
     "output_type": "stream",
     "text": [
      "TotalNumberOfAccesses: 5260\n",
      "TotalNumberOfAccesses: 5260\n",
      "TotalParallelAccesses: 5260 with 1 memories\n",
      "TotalNumberOfAccesses: 5260\n",
      "TotalParallelAccesses: 5005 with 2 memories\n",
      "TotalNumberOfAccesses: 5260\n",
      "TotalParallelAccesses: 4788 with 3 memories\n",
      "TotalNumberOfAccesses: 5260\n",
      "TotalParallelAccesses: 4058 with 4 memories\n",
      "TotalNumberOfAccesses: 5260\n",
      "TotalParallelAccesses: 3523 with 5 memories\n",
      "TotalNumberOfAccesses: 5260\n",
      "TotalParallelAccesses: 3163 with 6 memories\n",
      "TotalNumberOfAccesses: 5260\n",
      "TotalParallelAccesses: 2561 with 7 memories\n",
      "TotalNumberOfAccesses: 5260\n",
      "TotalParallelAccesses: 2331 with 8 memories\n",
      "TotalNumberOfAccesses: 5260\n",
      "TotalParallelAccesses: 2075 with 9 memories\n",
      "TotalNumberOfAccesses: 5260\n",
      "TotalParallelAccesses: 1960 with 10 memories\n",
      "TotalNumberOfAccesses: 5260\n",
      "TotalParallelAccesses: 1830 with 11 memories\n",
      "TotalNumberOfAccesses: 5260\n",
      "TotalParallelAccesses: 1815 with 12 memories\n",
      "TotalNumberOfAccesses: 5260\n",
      "TotalParallelAccesses: 1696 with 13 memories\n",
      "TotalNumberOfAccesses: 5260\n",
      "TotalParallelAccesses: 1696 with 14 memories\n",
      "TotalNumberOfAccesses: 5260\n",
      "TotalParallelAccesses: 1581 with 15 memories\n",
      "TotalNumberOfAccesses: 5260\n",
      "TotalParallelAccesses: 1351 with 16 memories\n",
      "TotalNumberOfAccesses: 5260\n",
      "TotalParallelAccesses: 1225 with 17 memories\n",
      "TotalNumberOfAccesses: 5260\n",
      "TotalParallelAccesses: 1210 with 18 memories\n",
      "TotalNumberOfAccesses: 5260\n",
      "TotalParallelAccesses: 1210 with 19 memories\n",
      "TotalNumberOfAccesses: 5260\n",
      "TotalParallelAccesses: 1210 with 20 memories\n",
      "TotalNumberOfAccesses: 5260\n",
      "TotalParallelAccesses: 1210 with 21 memories\n",
      "TotalNumberOfAccesses: 5260\n",
      "TotalParallelAccesses: 1210 with 22 memories\n",
      "TotalNumberOfAccesses: 5260\n",
      "TotalParallelAccesses: 1210 with 23 memories\n",
      "TotalNumberOfAccesses: 5260\n",
      "TotalParallelAccesses: 1210 with 24 memories\n",
      "TotalNumberOfAccesses: 5260\n",
      "TotalParallelAccesses: 1207 with 25 memories\n",
      "TotalNumberOfAccesses: 5260\n",
      "TotalParallelAccesses: 1207 with 26 memories\n",
      "TotalNumberOfAccesses: 5260\n",
      "TotalParallelAccesses: 1207 with 27 memories\n",
      "TotalNumberOfAccesses: 5260\n",
      "TotalParallelAccesses: 1207 with 28 memories\n",
      "TotalNumberOfAccesses: 5260\n",
      "TotalParallelAccesses: 1088 with 29 memories\n",
      "TotalNumberOfAccesses: 5260\n",
      "TotalParallelAccesses: 1088 with 30 memories\n",
      "TotalNumberOfAccesses: 5260\n",
      "TotalParallelAccesses: 856 with 31 memories\n",
      "TotalNumberOfAccesses: 5260\n",
      "TotalParallelAccesses: 856 with 32 memories\n",
      "TotalNumberOfAccesses: 5260\n",
      "TotalParallelAccesses: 737 with 33 memories\n",
      "TotalNumberOfAccesses: 5260\n",
      "TotalParallelAccesses: 627 with 34 memories\n",
      "TotalNumberOfAccesses: 5260\n",
      "TotalParallelAccesses: 605 with 35 memories\n"
     ]
    }
   ],
   "source": [
    "activePointsList = prf_utils.parseATrace(\"/Users/giuliostramondo/Projects/H2RC16/rodinia_test_100_chess_sparser_1read_1to8spaces.atrace\")\n",
    "\n",
    "TotalNumberOfAccesses=0\n",
    "for i in range(0,len(activePointsList)):\n",
    "    TotalNumberOfAccesses+=len(activePointsList[i])\n",
    "print \"TotalNumberOfAccesses: \"+str(TotalNumberOfAccesses)\n",
    "\n",
    "row_accesses = []\n",
    "row_efficiency = []\n",
    "row_speedup = []\n",
    "row_efficiency_over_accesses = []\n",
    "for i in range(36):\n",
    "    row_accesses.append(0)\n",
    "    row_efficiency.append(0)\n",
    "    row_speedup.append(0)\n",
    "    row_efficiency_over_accesses.append(0)\n",
    "    \n",
    "for memories in range(1,36):\n",
    "    TotalParallelAccesses=0\n",
    "    for i in range(0,len(activePointsList)):\n",
    "        active_points = list(set(activePointsList[i]))\n",
    "        #sol = prf_utils.solveOptimally(active_points,2,4, prf_utils.MappingScheme.RECTANGLE_ONLY)\n",
    "        sol = prf_utils.solveOptimally(active_points,1,memories, [prf_utils.Shape.ROW])\n",
    "        TotalParallelAccesses+=len(sol)\n",
    "    \n",
    "    print \"TotalNumberOfAccesses: \"+str(TotalNumberOfAccesses)\n",
    "    print \"TotalParallelAccesses: \"+str(TotalParallelAccesses)+\" with \"+str(memories)+\" memories\"\n",
    "    row_accesses[memories]=TotalParallelAccesses\n",
    "    row_efficiency[memories]=TotalNumberOfAccesses/float(TotalParallelAccesses*memories)\n",
    "    row_speedup[memories]=TotalNumberOfAccesses/float(TotalParallelAccesses)\n",
    "    row_efficiency_over_accesses[memories]=row_efficiency[memories]/float(TotalParallelAccesses)"
   ]
  },
  {
   "cell_type": "code",
   "execution_count": 3,
   "metadata": {
    "collapsed": false
   },
   "outputs": [
    {
     "data": {
      "image/png": "[encoded data removed]",
      "text/plain": [
       "<matplotlib.figure.Figure at 0x110947790>"
      ]
     },
     "metadata": {},
     "output_type": "display_data"
    }
   ],
   "source": [
    "memories = np.arange(0, 36, 1)\n",
    "plt.plot(memories, row_accesses, 'r.', memories, row_efficiency, 'bs', memories, row_speedup, 'g^')\n",
    "plt.show()"
   ]
  },
  {
   "cell_type": "code",
   "execution_count": 4,
   "metadata": {
    "collapsed": false
   },
   "outputs": [
    {
     "data": {
      "text/plain": [
       "[<matplotlib.lines.Line2D at 0x110c2c6d0>]"
      ]
     },
     "execution_count": 4,
     "metadata": {},
     "output_type": "execute_result"
    },
    {
     "data": {
      "image/png": "[encoded data removed]",
      "text/plain": [
       "<matplotlib.figure.Figure at 0x11128ee50>"
      ]
     },
     "metadata": {},
     "output_type": "display_data"
    }
   ],
   "source": [
    "plt.plot(memories, row_accesses, 'r.')"
   ]
  },
  {
   "cell_type": "code",
   "execution_count": 5,
   "metadata": {
    "collapsed": false
   },
   "outputs": [
    {
     "data": {
      "text/plain": [
       "[<matplotlib.lines.Line2D at 0x110df1350>]"
      ]
     },
     "execution_count": 5,
     "metadata": {},
     "output_type": "execute_result"
    },
    {
     "data": {
      "image/png": "[encoded data removed]",
      "text/plain": [
       "<matplotlib.figure.Figure at 0x11110fcd0>"
      ]
     },
     "metadata": {},
     "output_type": "display_data"
    }
   ],
   "source": [
    "plt.plot(memories, row_speedup, 'r.')"
   ]
  },
  {
   "cell_type": "code",
   "execution_count": 8,
   "metadata": {
    "collapsed": true
   },
   "outputs": [],
   "source": [
    "for memories in range(1,36):\n",
    "    row_efficiency[memories]=row_efficiency[memories]*float(TotalParallelAccesses)"
   ]
  },
  {
   "cell_type": "code",
   "execution_count": 6,
   "metadata": {
    "collapsed": false
   },
   "outputs": [
    {
     "data": {
      "text/plain": [
       "[<matplotlib.lines.Line2D at 0x111297490>]"
      ]
     },
     "execution_count": 6,
     "metadata": {},
     "output_type": "execute_result"
    },
    {
     "data": {
      "image/png": "[encoded data removed]",
      "text/plain": [
       "<matplotlib.figure.Figure at 0x110a634d0>"
      ]
     },
     "metadata": {},
     "output_type": "display_data"
    }
   ],
   "source": [
    "plt.plot(memories, row_efficiency, 'r.')"
   ]
  },
  {
   "cell_type": "code",
   "execution_count": 7,
   "metadata": {
    "collapsed": false
   },
   "outputs": [
    {
     "data": {
      "text/plain": [
       "[<matplotlib.lines.Line2D at 0x1114846d0>]"
      ]
     },
     "execution_count": 7,
     "metadata": {},
     "output_type": "execute_result"
    },
    {
     "data": {
      "image/png": "[encoded data removed]",
      "text/plain": [
       "<matplotlib.figure.Figure at 0x110a42810>"
      ]
     },
     "metadata": {},
     "output_type": "display_data"
    }
   ],
   "source": [
    "plt.plot(memories, row_efficiency_over_accesses, 'r.')"
   ]
  },
  {
   "cell_type": "code",
   "execution_count": 9,
   "metadata": {
    "collapsed": false
   },
   "outputs": [],
   "source": [
    "#Write output to file\n",
    "\n",
    "f = open(\"row_100_kmeans_chess_sparser_1read_1to8spaces.csv\",\"w\")\n",
    "for i in range(1,36):\n",
    "    if i == 35:\n",
    "        f.write(str(i)+\"\\n\")\n",
    "    else:\n",
    "        f.write(str(i)+\",\")\n",
    "for i in range(1,36):\n",
    "    if i == 35:\n",
    "        f.write(str(row_accesses[i])+\"\\n\")\n",
    "    else:\n",
    "        f.write(str(row_accesses[i])+\",\")\n",
    "for i in range(1,36):\n",
    "    if i == 35:\n",
    "        f.write(str(row_speedup[i])+\"\\n\")\n",
    "    else:\n",
    "        f.write(str(row_speedup[i])+\",\")\n",
    "for i in range(1,36):\n",
    "    if i == 35:\n",
    "        f.write(str(row_efficiency[i])+\"\\n\")\n",
    "    else:\n",
    "        f.write(str(row_efficiency[i])+\",\")\n",
    "for i in range(1,36):\n",
    "    if i == 35:\n",
    "        f.write(str(row_efficiency_over_accesses[i])+\"\\n\")\n",
    "    else:\n",
    "        f.write(str(row_efficiency_over_accesses[i])+\",\")"
   ]
  },
  {
   "cell_type": "code",
   "execution_count": null,
   "metadata": {
    "collapsed": true
   },
   "outputs": [],
   "source": []
  }
 ],
 "metadata": {
  "kernelspec": {
   "display_name": "Python 2",
   "language": "python",
   "name": "python2"
  },
  "language_info": {
   "codemirror_mode": {
    "name": "ipython",
    "version": 2
   },
   "file_extension": ".py",
   "mimetype": "text/x-python",
   "name": "python",
   "nbconvert_exporter": "python",
   "pygments_lexer": "ipython2",
   "version": "2.7.11"
  }
 },
 "nbformat": 4,
 "nbformat_minor": 0
}
