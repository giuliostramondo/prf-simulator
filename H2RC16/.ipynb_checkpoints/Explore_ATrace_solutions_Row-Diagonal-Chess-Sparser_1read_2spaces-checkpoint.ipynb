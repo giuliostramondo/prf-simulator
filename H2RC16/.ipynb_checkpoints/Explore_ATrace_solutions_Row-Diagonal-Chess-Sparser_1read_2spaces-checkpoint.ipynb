{
 "cells": [
  {
   "cell_type": "code",
   "execution_count": 1,
   "metadata": {
    "collapsed": false
   },
   "outputs": [
    {
     "name": "stderr",
     "output_type": "stream",
     "text": [
      "/usr/local/lib/python2.7/site-packages/matplotlib/font_manager.py:273: UserWarning: Matplotlib is building the font cache using fc-list. This may take a moment.\n",
      "  warnings.warn('Matplotlib is building the font cache using fc-list. This may take a moment.')\n"
     ]
    }
   ],
   "source": [
    "%matplotlib inline\n",
    "import matplotlib.pyplot as plt\n",
    "import numpy as np\n",
    "import prf_utils"
   ]
  },
  {
   "cell_type": "code",
   "execution_count": null,
   "metadata": {
    "collapsed": false
   },
   "outputs": [
    {
     "name": "stdout",
     "output_type": "stream",
     "text": [
      "TotalNumberOfAccesses: 7025\n",
      "TotalNumberOfAccesses: 7025\n",
      "TotalParallelAccesses: 7025 with 1 memories\n",
      "TotalNumberOfAccesses: 7025\n",
      "TotalParallelAccesses: 4691 with 2 memories\n",
      "TotalNumberOfAccesses: 7025\n",
      "TotalParallelAccesses: 3577 with 3 memories\n",
      "TotalNumberOfAccesses: 7025\n",
      "TotalParallelAccesses: 2417 with 4 memories\n",
      "TotalNumberOfAccesses: 7025\n",
      "TotalParallelAccesses: 1911 with 5 memories\n",
      "TotalNumberOfAccesses: 7025\n",
      "TotalParallelAccesses: 1906 with 6 memories\n",
      "TotalNumberOfAccesses: 7025\n",
      "TotalParallelAccesses: 1705 with 7 memories\n"
     ]
    }
   ],
   "source": [
    "activePointsList = prf_utils.parseATrace(\"/Users/giuliostramondo/Projects/H2RC16/rodinia_test_100_chess_denser_2reads_1space.atrace\")\n",
    "\n",
    "TotalNumberOfAccesses=0\n",
    "for i in range(0,len(activePointsList)):\n",
    "    TotalNumberOfAccesses+=len(activePointsList[i])\n",
    "print \"TotalNumberOfAccesses: \"+str(TotalNumberOfAccesses)\n",
    "\n",
    "row_accesses = []\n",
    "row_efficiency = []\n",
    "row_speedup = []\n",
    "row_efficiency_over_accesses = []\n",
    "for i in range(36):\n",
    "    row_accesses.append(0)\n",
    "    row_efficiency.append(0)\n",
    "    row_speedup.append(0)\n",
    "    row_efficiency_over_accesses.append(0)\n",
    "    \n",
    "for memories in range(1,36):\n",
    "    TotalParallelAccesses=0\n",
    "    for i in range(0,len(activePointsList)):\n",
    "        active_points = list(set(activePointsList[i]))\n",
    "        #sol = prf_utils.solveOptimally(active_points,2,4, prf_utils.MappingScheme.RECTANGLE_ONLY)\n",
    "        sol = prf_utils.solveOptimally(active_points,1,memories, [prf_utils.Shape.ROW,prf_utils.Shape.MAIN_DIAGONAL])\n",
    "        TotalParallelAccesses+=len(sol)\n",
    "    \n",
    "    print \"TotalNumberOfAccesses: \"+str(TotalNumberOfAccesses)\n",
    "    print \"TotalParallelAccesses: \"+str(TotalParallelAccesses)+\" with \"+str(memories)+\" memories\"\n",
    "    row_accesses[memories]=TotalParallelAccesses\n",
    "    row_efficiency[memories]=TotalNumberOfAccesses/float(TotalParallelAccesses*memories)\n",
    "    row_speedup[memories]=TotalNumberOfAccesses/float(TotalParallelAccesses)\n",
    "    row_efficiency_over_accesses[memories]=row_efficiency[memories]/float(TotalParallelAccesses)"
   ]
  },
  {
   "cell_type": "code",
   "execution_count": 3,
   "metadata": {
    "collapsed": false
   },
   "outputs": [
    {
     "data": {
      "image/png": "[encoded data removed]",
      "text/plain": [
       "<matplotlib.figure.Figure at 0x10b2782d0>"
      ]
     },
     "metadata": {},
     "output_type": "display_data"
    }
   ],
   "source": [
    "memories = np.arange(0, 36, 1)\n",
    "plt.plot(memories, row_accesses, 'r.', memories, row_efficiency, 'bs', memories, row_speedup, 'g^')\n",
    "plt.show()"
   ]
  },
  {
   "cell_type": "code",
   "execution_count": 4,
   "metadata": {
    "collapsed": false
   },
   "outputs": [
    {
     "data": {
      "text/plain": [
       "[<matplotlib.lines.Line2D at 0x10c1a0310>]"
      ]
     },
     "execution_count": 4,
     "metadata": {},
     "output_type": "execute_result"
    },
    {
     "data": {
      "image/png": "[encoded data removed]",
      "text/plain": [
       "<matplotlib.figure.Figure at 0x10b278e90>"
      ]
     },
     "metadata": {},
     "output_type": "display_data"
    }
   ],
   "source": [
    "plt.plot(memories, row_accesses, 'r.')"
   ]
  },
  {
   "cell_type": "code",
   "execution_count": 5,
   "metadata": {
    "collapsed": false
   },
   "outputs": [
    {
     "data": {
      "text/plain": [
       "[<matplotlib.lines.Line2D at 0x10c201090>]"
      ]
     },
     "execution_count": 5,
     "metadata": {},
     "output_type": "execute_result"
    },
    {
     "data": {
      "image/png": "[encoded data removed]",
      "text/plain": [
       "<matplotlib.figure.Figure at 0x10c36ba90>"
      ]
     },
     "metadata": {},
     "output_type": "display_data"
    }
   ],
   "source": [
    "plt.plot(memories, row_speedup, 'r.')"
   ]
  },
  {
   "cell_type": "code",
   "execution_count": 6,
   "metadata": {
    "collapsed": false
   },
   "outputs": [
    {
     "data": {
      "text/plain": [
       "[<matplotlib.lines.Line2D at 0x10c579210>]"
      ]
     },
     "execution_count": 6,
     "metadata": {},
     "output_type": "execute_result"
    },
    {
     "data": {
      "image/png": "[encoded data removed]",
      "text/plain": [
       "<matplotlib.figure.Figure at 0x10ba92890>"
      ]
     },
     "metadata": {},
     "output_type": "display_data"
    }
   ],
   "source": [
    "plt.plot(memories, row_efficiency, 'r.')"
   ]
  },
  {
   "cell_type": "code",
   "execution_count": 10,
   "metadata": {
    "collapsed": false
   },
   "outputs": [
    {
     "data": {
      "text/plain": [
       "[<matplotlib.lines.Line2D at 0x1104a6ed0>]"
      ]
     },
     "execution_count": 10,
     "metadata": {},
     "output_type": "execute_result"
    },
    {
     "data": {
      "image/png": "[encoded data removed]",
      "text/plain": [
       "<matplotlib.figure.Figure at 0x11067dd50>"
      ]
     },
     "metadata": {},
     "output_type": "display_data"
    }
   ],
   "source": [
    "plt.plot(memories, row_efficiency_over_accesses, 'r.')"
   ]
  },
  {
   "cell_type": "code",
   "execution_count": 8,
   "metadata": {
    "collapsed": false
   },
   "outputs": [],
   "source": [
    "#Write output to file\n",
    "\n",
    "f = open(\"row_diagonal_100_kmeans_denser_2reads_1space.csv\",\"w\")\n",
    "for i in range(1,36):\n",
    "    if i == 35:\n",
    "        f.write(str(i)+\"\\n\")\n",
    "    else:\n",
    "        f.write(str(i)+\",\")\n",
    "for i in range(1,36):\n",
    "    if i == 35:\n",
    "        f.write(str(row_accesses[i])+\"\\n\")\n",
    "    else:\n",
    "        f.write(str(row_accesses[i])+\",\")\n",
    "for i in range(1,36):\n",
    "    if i == 35:\n",
    "        f.write(str(row_speedup[i])+\"\\n\")\n",
    "    else:\n",
    "        f.write(str(row_speedup[i])+\",\")\n",
    "for i in range(1,36):\n",
    "    if i == 35:\n",
    "        f.write(str(row_efficiency[i])+\"\\n\")\n",
    "    else:\n",
    "        f.write(str(row_efficiency[i])+\",\")\n",
    "for i in range(1,36):\n",
    "    if i == 35:\n",
    "        f.write(str(row_efficiency_over_accesses[i])+\"\\n\")\n",
    "    else:\n",
    "        f.write(str(row_efficiency_over_accesses[i])+\",\")"
   ]
  },
  {
   "cell_type": "code",
   "execution_count": null,
   "metadata": {
    "collapsed": true
   },
   "outputs": [],
   "source": []
  }
 ],
 "metadata": {
  "kernelspec": {
   "display_name": "Python 2",
   "language": "python",
   "name": "python2"
  },
  "language_info": {
   "codemirror_mode": {
    "name": "ipython",
    "version": 2
   },
   "file_extension": ".py",
   "mimetype": "text/x-python",
   "name": "python",
   "nbconvert_exporter": "python",
   "pygments_lexer": "ipython2",
   "version": "2.7.11"
  }
 },
 "nbformat": 4,
 "nbformat_minor": 0
}
